{
  "nbformat": 4,
  "nbformat_minor": 0,
  "metadata": {
    "colab": {
      "provenance": []
    },
    "kernelspec": {
      "name": "python3",
      "display_name": "Python 3"
    },
    "language_info": {
      "name": "python"
    }
  },
  "cells": [
    {
      "cell_type": "code",
      "execution_count": 2,
      "metadata": {
        "id": "bFI2MJ4rX8fh"
      },
      "outputs": [],
      "source": [
        "import pandas as pd\n",
        "import numpy as np\n",
        "import matplotlib.pyplot as plt"
      ]
    },
    {
      "cell_type": "code",
      "source": [
        "np.random.seed(42)\n",
        "X = 2*np.random.rand(100,1)\n",
        "true_coef=3\n",
        "y = true_coef*X + np.random.randn(100,1)"
      ],
      "metadata": {
        "id": "pAUGFkh2ZgE1"
      },
      "execution_count": 3,
      "outputs": []
    },
    {
      "cell_type": "code",
      "source": [
        "plt.scatter(X, y, alpha=0.6)\n",
        "plt.title(\"Synthetic 1D Data\")\n",
        "plt.xlabel(\"X\")\n",
        "plt.ylabel(\"y\")\n",
        "plt.show()"
      ],
      "metadata": {
        "colab": {
          "base_uri": "https://localhost:8080/",
          "height": 472
        },
        "id": "TCMYl6byaXWc",
        "outputId": "41d2c6cc-f19e-4b05-af2d-d2e45296631e"
      },
      "execution_count": 4,
      "outputs": [
        {
          "output_type": "display_data",
          "data": {
            "text/plain": [
              "<Figure size 640x480 with 1 Axes>"
            ],
            "image/png": "[encoded data removed]"
          },
          "metadata": {}
        }
      ]
    },
    {
      "cell_type": "code",
      "source": [
        "from sklearn.linear_model import Ridge\n",
        "\n",
        "sk_model = Ridge(alpha=10)\n",
        "sk_model.fit(X,y)\n",
        "print(f\"Sklearn Coef: {float(sk_model.coef_[0]):.4f}, Intercept: {float(sk_model.intercept_):.4f}\")"
      ],
      "metadata": {
        "colab": {
          "base_uri": "https://localhost:8080/"
        },
        "id": "sFh6SDUpbLOj",
        "outputId": "1cd00bee-fef6-4ea2-b558-e1dcf1eb3196"
      },
      "execution_count": 6,
      "outputs": [
        {
          "output_type": "stream",
          "name": "stdout",
          "text": [
            "Sklearn Coef: 2.1552, Intercept: 0.7934\n"
          ]
        },
        {
          "output_type": "stream",
          "name": "stderr",
          "text": [
            "<ipython-input-6-be95a11610a1>:5: DeprecationWarning: Conversion of an array with ndim > 0 to a scalar is deprecated, and will error in future. Ensure you extract a single element from your array before performing this operation. (Deprecated NumPy 1.25.)\n",
            "  print(f\"Sklearn Coef: {float(sk_model.coef_[0]):.4f}, Intercept: {float(sk_model.intercept_):.4f}\")\n"
          ]
        }
      ]
    },
    {
      "cell_type": "code",
      "source": [
        "class myRidge:\n",
        "  def __init__(self, alpha=1.0):\n",
        "    self.alpha = alpha\n",
        "    self.m = None\n",
        "    self.b = None\n",
        "\n",
        "  def fit(self, X, y):\n",
        "    num=0\n",
        "    den=0\n",
        "\n",
        "    for i in range(X.shape[0]):\n",
        "      num=num+((X[i]-X.mean())*(y[i]-y.mean()))\n",
        "      den=den+((X[i]-X.mean())*(X[i]-X.mean()))\n",
        "\n",
        "    self.m = num/(den+self.alpha)\n",
        "    self.b = y.mean() - self.m*X.mean()\n",
        "    #print(self.m, self.b)\n",
        "\n",
        "  def predict(self, X):\n",
        "    return self.m*X + self.b\n",
        "\n"
      ],
      "metadata": {
        "id": "Znt5ciZ3boRb"
      },
      "execution_count": 7,
      "outputs": []
    },
    {
      "cell_type": "code",
      "source": [
        "R = myRidge(alpha=10)\n",
        "R.fit(X,y)\n",
        "y_pred = R.predict(X)"
      ],
      "metadata": {
        "colab": {
          "base_uri": "https://localhost:8080/"
        },
        "id": "H_fWTctCeBqx",
        "outputId": "d3379c40-349d-426e-cfde-e4ead28b51da"
      },
      "execution_count": 8,
      "outputs": [
        {
          "output_type": "stream",
          "name": "stdout",
          "text": [
            "[2.15516098] [0.79337372]\n"
          ]
        }
      ]
    },
    {
      "cell_type": "code",
      "source": [],
      "metadata": {
        "id": "xrcz7jqKeH85"
      },
      "execution_count": null,
      "outputs": []
    }
  ]
}